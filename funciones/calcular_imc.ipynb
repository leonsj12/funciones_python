{
  "nbformat": 4,
  "nbformat_minor": 0,
  "metadata": {
    "colab": {
      "provenance": []
    },
    "kernelspec": {
      "name": "python3",
      "display_name": "Python 3"
    },
    "language_info": {
      "name": "python"
    }
  },
  "cells": [
    {
      "cell_type": "markdown",
      "source": [
        "# Función: `calcular_imc`\n",
        "\n",
        "Esta función calcula el Índice de Masa Corporal (IMC) de una persona utilizando su masa (en kilogramos) y su estatura (en metros). El IMC es una medida utilizada para evaluar si una persona tiene un peso adecuado en relación con su altura.\n",
        "\n",
        "## Fórmula utilizada\n",
        "\n",
        "La fórmula para calcular el IMC es la siguiente:\n",
        "\n",
        "`IMC = masa / (estatura ** 2)`\n",
        "\n",
        "## Parámetros\n",
        "\n",
        " **masa** (`float`):\n",
        "  Masa de la persona en kilogramos. Este valor debe ser mayor a 0.\n",
        "\n",
        " **estatura** (`float`):\n",
        "  Estatura de la persona en metros. Este valor debe ser mayor a 0.\n",
        "\n",
        "## Retorno\n",
        "\n",
        " **float**:\n",
        "  Devuelve el valor calculado del IMC como un número decimal.\n",
        "\n",
        "## Buenas prácticas aplicadas\n",
        "\n",
        "**Validación de entrada**:\n",
        "\n",
        "  La función valida que los valores de `masa` y `estatura` sean positivos.\n",
        "   \n",
        "  Si alguno de los valores no cumple este criterio, se lanza un error de tipo `ValueError`.\n",
        "\n",
        "**Tipado explícito**:\n",
        "   \n",
        "   Se utiliza tipado explícito en los parámetros (`masa`, `estatura`) y en el valor de retorno de la función.\n",
        "\n",
        "**Nombre descriptivo**:\n",
        "   \n",
        "   La función utiliza un nombre que describe claramente su propósito (`calcular_imc`).\n",
        "\n",
        "**Documentación clara**:\n",
        "   \n",
        "   La función incluye una docstring que explica detalladamente su propósito, parámetros y valor de retorno.\n"
      ],
      "metadata": {
        "id": "XOCG1yGZI-iu"
      }
    },
    {
      "cell_type": "code",
      "execution_count": null,
      "metadata": {
        "colab": {
          "base_uri": "https://localhost:8080/"
        },
        "id": "QRhBNbN3I8xJ",
        "outputId": "4e0658c6-4e7c-4b2c-a83b-431926ff4503"
      },
      "outputs": [
        {
          "output_type": "stream",
          "name": "stdout",
          "text": [
            "Tu IMC es: 23.31\n"
          ]
        }
      ],
      "source": [
        "def calcular_imc(masa: float, estatura: float) -> float:\n",
        "    \"\"\"\n",
        "    Calcula el Índice de Masa Corporal (IMC) de una persona.\n",
        "\n",
        "    Parámetros:\n",
        "    ----------\n",
        "    masa: float\n",
        "        Masa de la persona en kilogramos.\n",
        "    estatura: float\n",
        "        Estatura de la persona en metros.\n",
        "\n",
        "    Retorna:\n",
        "    -------\n",
        "    float\n",
        "        El valor del Índice de Masa Corporal (IMC).\n",
        "    \"\"\"\n",
        "    # Validar que la masa y la estatura sean valores positivos\n",
        "    if masa <= 0:\n",
        "        raise ValueError(\"La masa debe ser mayor a 0.\")\n",
        "    if estatura <= 0:\n",
        "        raise ValueError(\"La estatura debe ser mayor a 0.\")\n",
        "\n",
        "    # Calcular el IMC utilizando la fórmula\n",
        "    imc = masa / (estatura ** 2)\n",
        "\n",
        "    # Retornar el valor del IMC\n",
        "    return imc\n",
        "\n",
        "# Ejemplo de uso\n",
        "try:\n",
        "    masa = 65.0  # Masa en kilogramos\n",
        "    estatura = 1.67  # Estatura en metros\n",
        "    resultado_imc = calcular_imc(masa, estatura)\n",
        "    print(f\"Tu IMC es: {resultado_imc:.2f}\")\n",
        "except ValueError as e:\n",
        "    print(f\"Error: {e}\")"
      ]
    },
    {
      "cell_type": "markdown",
      "source": [
        "\n",
        "## Clasificación del IMC según la OMS\n",
        "\n",
        "La **Organización Mundial de la Salud (OMS)** clasifica los valores de **IMC** en las siguientes categorías:\n",
        "\n",
        "| **IMC**        | **Clasificación**            |\n",
        "|----------------|------------------------------|\n",
        "| Menos de 16.0  | Desnutrición grave            |\n",
        "| 16.0 - 16.9    | Desnutrición moderada         |\n",
        "| 17.0 - 18.4    | Desnutrición leve             |\n",
        "| 18.5 - 24.9    | Peso normal                   |\n",
        "| 25.0 - 29.9    | Sobrepeso                     |\n",
        "| 30.0 - 34.9    | Obesidad clase I              |\n",
        "| 35.0 - 39.9    | Obesidad clase II             |\n",
        "| 40.0 o más     | Obesidad clase III (severa)   |\n",
        "\n",
        "La clasificación del IMC está basada en las directrices de la **Organización Mundial de la Salud (OMS)**:\n",
        "\n",
        "**Referencia:**\n",
        "\n",
        "World Health Organization. (2024). *Body mass index (BMI)*.  https://www.who.int/data/gho/data/themes/topics/topic-details/GHO/body-mass-index\n"
      ],
      "metadata": {
        "id": "_z-BaNsGK05w"
      }
    }
  ]
}